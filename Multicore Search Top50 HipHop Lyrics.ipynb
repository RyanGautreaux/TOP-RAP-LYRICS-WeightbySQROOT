{
 "cells": [
  {
   "cell_type": "code",
   "execution_count": null,
   "metadata": {},
   "outputs": [],
   "source": [
    "# !pip install billboard.py"
   ]
  },
  {
   "cell_type": "code",
   "execution_count": null,
   "metadata": {},
   "outputs": [],
   "source": [
    "# !pip install git+https://github.com/johnwmillr/LyricsGenius.git"
   ]
  },
  {
   "cell_type": "code",
   "execution_count": null,
   "metadata": {},
   "outputs": [],
   "source": [
    "from datetime import datetime\n",
    "import numpy as np\n",
    "import pandas as pd\n",
    "import re\n",
    "import os\n",
    "import time\n",
    "import billboard\n",
    "import multiprocessing as mp\n",
    "import lyricsgenius\n",
    "client_access_token = '<YOUR-GENIUS-API-SECRET>'\n",
    "genius = lyricsgenius.Genius(client_access_token)\n",
    "genius.excluded_terms = [\"(Remix)\", \"(Live)\", \"(Cover)\"]\n",
    "genius.remove_section_headers = True\n",
    "genius.verbose = False"
   ]
  },
  {
   "cell_type": "code",
   "execution_count": null,
   "metadata": {},
   "outputs": [],
   "source": [
    "# look at available charts\n",
    "billboard.charts()"
   ]
  },
  {
   "cell_type": "code",
   "execution_count": null,
   "metadata": {},
   "outputs": [],
   "source": [
    "ft_terms = ['featuring', 'feature', 'ft.', 'ft', 'feat.', 'feat']\n",
    "expression = r\"\".join([\"({})|\".format(term) for term in ft_terms]).strip('|')\n",
    "regex = re.compile(expression, re.IGNORECASE)\n",
    "\n",
    "def job(chart):\n",
    "    songs = []\n",
    "    \n",
    "    for i, song in enumerate(chart):\n",
    "        try:\n",
    "            billboard_artist = [a.strip().lower() for a in regex.split(song.artist) if isinstance(a, str) and a.strip().lower() not in ft_terms]\n",
    "            \n",
    "            for search_artist in billboard_artist:\n",
    "                genius_song = genius.search_song(song.title, search_artist)\n",
    "                genius_artists = [a.strip().lower() for a in regex.split(genius_song.artist) if isinstance(a, str) and a.strip().lower() not in ft_terms]            \n",
    "                genius_artists.extend([ft_artist['name'] for ft_artist in genius_song.featured_artists])\n",
    "                \n",
    "                if len(set(genius_artists).intersection(set(billboard_artist))) / len(set(billboard_artist)) >= 0.5:\n",
    "                    break\n",
    "            \n",
    "            if len(set(genius_artists).intersection(set(billboard_artist))) / len(set(billboard_artist)) < 0.5:\n",
    "                genius_song = genius.search_song(song.title)\n",
    "                genius_artists = [a.strip().lower() for a in regex.split(genius_song.artist) if isinstance(a, str) and a.strip().lower() not in ft_terms]\n",
    "                genius_artists.extend([ft_artist['name'] for ft_artist in genius_song.featured_artists])\n",
    "                \n",
    "                if len(set(genius_artists).intersection(set(billboard_artist))) / len(set(billboard_artist)) < 0.5:\n",
    "                       raise Exception\n",
    "            else:\n",
    "                if genius_song:\n",
    "                    print(i, '-', re.sub(r'\\s+', ' ', genius_song.lyrics[:100]))\n",
    "            \n",
    "            songs.append({\n",
    "            'billboardChartDate': chart.date, \n",
    "            'title': song.title,\n",
    "            'artist': song.artist, \n",
    "            'releaseDate': genius_song._body['release_date'] if genius_song else None,\n",
    "            'rank': song.rank,\n",
    "            'weight': np.sqrt(len(chart) - song.rank + 1),\n",
    "            'text': genius_song.lyrics if genius_song else None\n",
    "            })\n",
    "            \n",
    "\n",
    "        except Exception:\n",
    "            failed_query.append({\n",
    "                'billboardChartDate': chart.date, \n",
    "                'title': song.title,\n",
    "                'artist': song.artist,\n",
    "                'releaseDate': None,\n",
    "                'rank': song.rank,\n",
    "                'weight': np.sqrt(len(chart) - song.rank + 1),\n",
    "                'text': None\n",
    "            })\n",
    "    \n",
    "    if songs:\n",
    "        df = pd.DataFrame.from_dict(songs)\n",
    "        df.to_csv(lyrics_destination_fpath, mode='a+', header=False, index=False)\n",
    "        \n",
    "        print(\"Finished downloading chart data ({})\".format(chart.date))"
   ]
  },
  {
   "cell_type": "code",
   "execution_count": null,
   "metadata": {
    "scrolled": true
   },
   "outputs": [],
   "source": [
    "# Create objects for multiprocessing management\n",
    "manager = mp.Manager()\n",
    "failed_query = manager.list()\n",
    "\n",
    "lyrics_destination_fpath = './rapLyrics.csv'\n",
    "chart_name = 'r-b-hip-hop-songs'\n",
    "\n",
    "# lastest chart as of today \n",
    "# or specify a date as a starting point to get all the historical charts in the next step\n",
    "start_date = None\n",
    "chart = billboard.ChartData(chart_name, date=start_date)\n",
    "to_year = 2008\n",
    "\n",
    "que = []\n",
    "n_cores = 4\n",
    "pool = mp.pool.Pool(n_cores)\n",
    "\n",
    "if not os.path.exists(lyrics_destination_fpath):\n",
    "    with open(lyrics_destination_fpath, 'w') as f:\n",
    "        f.write('billboardChartDate,title,artist,releaseDate,rank,weight,text\\n')\n",
    "        f.close()\n",
    "    \n",
    "while datetime.strptime(chart.date, '%Y-%m-%d').year >= to_year:\n",
    "    que.append(chart)\n",
    "    \n",
    "    if len(que) == n_cores:\n",
    "        pool.map(job,que)\n",
    "        # clear the que\n",
    "        que = []\n",
    "    \n",
    "    chart = billboard.ChartData(chart_name, date=chart.previousDate)\n",
    "\n",
    "if que:\n",
    "    pool.map(job, que)\n",
    "    \n",
    "pool.close()\n",
    "pool.join()"
   ]
  },
  {
   "cell_type": "code",
   "execution_count": null,
   "metadata": {},
   "outputs": [],
   "source": [
    "pool.terminate()"
   ]
  },
  {
   "cell_type": "code",
   "execution_count": null,
   "metadata": {},
   "outputs": [],
   "source": []
  }
 ],
 "metadata": {
  "kernelspec": {
   "display_name": "Python 3",
   "language": "python",
   "name": "python3"
  },
  "language_info": {
   "codemirror_mode": {
    "name": "ipython",
    "version": 3
   },
   "file_extension": ".py",
   "mimetype": "text/x-python",
   "name": "python",
   "nbconvert_exporter": "python",
   "pygments_lexer": "ipython3",
   "version": "3.7.3"
  }
 },
 "nbformat": 4,
 "nbformat_minor": 2
}
